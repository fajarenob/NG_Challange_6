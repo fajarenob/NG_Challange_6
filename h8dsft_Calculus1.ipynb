{
  "nbformat": 4,
  "nbformat_minor": 0,
  "metadata": {
    "colab": {
      "name": "h8dsft_Calculus1.ipynb",
      "provenance": []
    },
    "kernelspec": {
      "name": "python3",
      "display_name": "Python 3"
    },
    "language_info": {
      "name": "python"
    }
  },
  "cells": [
    {
      "cell_type": "code",
      "metadata": {
        "colab": {
          "base_uri": "https://localhost:8080/"
        },
        "id": "1VYneAZUjxvX",
        "outputId": "48d38e33-ac54-4d86-d6a9-a7797e5a8fb4"
      },
      "source": [
        "pip install scipy"
      ],
      "execution_count": 57,
      "outputs": [
        {
          "output_type": "stream",
          "name": "stdout",
          "text": [
            "Requirement already satisfied: scipy in /usr/local/lib/python3.7/dist-packages (1.4.1)\n",
            "Requirement already satisfied: numpy>=1.13.3 in /usr/local/lib/python3.7/dist-packages (from scipy) (1.19.5)\n"
          ]
        }
      ]
    },
    {
      "cell_type": "code",
      "metadata": {
        "id": "lTxu5OQeaqrU"
      },
      "source": [
        "import numpy as np\n",
        "import sympy as sym\n",
        "from sympy import exp\n",
        "import matplotlib.pyplot as plt\n",
        "from numpy import exp #misal kalo fungsinya macem2, import dulu kaya gini\n",
        "from scipy.optimize import minimize_scalar\n"
      ],
      "execution_count": 58,
      "outputs": []
    },
    {
      "cell_type": "code",
      "metadata": {
        "colab": {
          "base_uri": "https://localhost:8080/",
          "height": 39
        },
        "id": "yJJc8Az7beak",
        "outputId": "87a6498b-a9cb-4d37-d5a9-ed95867031ff"
      },
      "source": [
        "#y = x2 +2x + 1 \n",
        "x = sym.Symbol('x')#harus string\n",
        "f = x**2 + 2*x + 1\n",
        "#Turunan pertama\n",
        "f_diff = f.diff()\n",
        "f_diff"
      ],
      "execution_count": 59,
      "outputs": [
        {
          "output_type": "execute_result",
          "data": {
            "text/latex": "$\\displaystyle 2 x + 2$",
            "text/plain": [
              "2*x + 2"
            ]
          },
          "metadata": {},
          "execution_count": 59
        }
      ]
    },
    {
      "cell_type": "markdown",
      "metadata": {
        "id": "RPrV4UU3bnhc"
      },
      "source": [
        "##Tambahan Catatan"
      ]
    },
    {
      "cell_type": "code",
      "metadata": {
        "colab": {
          "base_uri": "https://localhost:8080/",
          "height": 38
        },
        "id": "zJxF4MvhZhSi",
        "outputId": "dc8a2a12-407d-4559-805e-d1752d7189cc"
      },
      "source": [
        "#turunan kedua\n",
        "f_diff.diff()"
      ],
      "execution_count": 60,
      "outputs": [
        {
          "output_type": "execute_result",
          "data": {
            "text/latex": "$\\displaystyle 2$",
            "text/plain": [
              "2"
            ]
          },
          "metadata": {},
          "execution_count": 60
        }
      ]
    },
    {
      "cell_type": "code",
      "metadata": {
        "colab": {
          "base_uri": "https://localhost:8080/",
          "height": 38
        },
        "id": "y96qophrZpzJ",
        "outputId": "b2dca4d9-2ab4-4d6d-95e5-d934af3d9e78"
      },
      "source": [
        "#Turunan ketiga\n",
        "f_diff.diff().diff()"
      ],
      "execution_count": 61,
      "outputs": [
        {
          "output_type": "execute_result",
          "data": {
            "text/latex": "$\\displaystyle 0$",
            "text/plain": [
              "0"
            ]
          },
          "metadata": {},
          "execution_count": 61
        }
      ]
    },
    {
      "cell_type": "code",
      "metadata": {
        "id": "6mmy0cVJ3m9r"
      },
      "source": [
        "X = np.linspace(-4,5) #batas nilai x nya berapa sampe berapa\n",
        "Y = X**2 + 2*X + 1 #X nya harus ikutan gede"
      ],
      "execution_count": 62,
      "outputs": []
    },
    {
      "cell_type": "code",
      "metadata": {
        "colab": {
          "base_uri": "https://localhost:8080/"
        },
        "id": "rHlIyUYv3rcX",
        "outputId": "0ce581ab-2eea-4434-ada1-d3b8cc74a855"
      },
      "source": [
        "X"
      ],
      "execution_count": 63,
      "outputs": [
        {
          "output_type": "execute_result",
          "data": {
            "text/plain": [
              "array([-4.        , -3.81632653, -3.63265306, -3.44897959, -3.26530612,\n",
              "       -3.08163265, -2.89795918, -2.71428571, -2.53061224, -2.34693878,\n",
              "       -2.16326531, -1.97959184, -1.79591837, -1.6122449 , -1.42857143,\n",
              "       -1.24489796, -1.06122449, -0.87755102, -0.69387755, -0.51020408,\n",
              "       -0.32653061, -0.14285714,  0.04081633,  0.2244898 ,  0.40816327,\n",
              "        0.59183673,  0.7755102 ,  0.95918367,  1.14285714,  1.32653061,\n",
              "        1.51020408,  1.69387755,  1.87755102,  2.06122449,  2.24489796,\n",
              "        2.42857143,  2.6122449 ,  2.79591837,  2.97959184,  3.16326531,\n",
              "        3.34693878,  3.53061224,  3.71428571,  3.89795918,  4.08163265,\n",
              "        4.26530612,  4.44897959,  4.63265306,  4.81632653,  5.        ])"
            ]
          },
          "metadata": {},
          "execution_count": 63
        }
      ]
    },
    {
      "cell_type": "code",
      "metadata": {
        "colab": {
          "base_uri": "https://localhost:8080/"
        },
        "id": "YOpGMK3i3tne",
        "outputId": "2493ec69-e199-4318-dc2c-7d4144060d6e"
      },
      "source": [
        "Y"
      ],
      "execution_count": 64,
      "outputs": [
        {
          "output_type": "execute_result",
          "data": {
            "text/plain": [
              "array([9.00000000e+00, 7.93169513e+00, 6.93086214e+00, 5.99750104e+00,\n",
              "       5.13161183e+00, 4.33319450e+00, 3.60224906e+00, 2.93877551e+00,\n",
              "       2.34277384e+00, 1.81424406e+00, 1.35318617e+00, 9.59600167e-01,\n",
              "       6.33486047e-01, 3.74843815e-01, 1.83673469e-01, 5.99750104e-02,\n",
              "       3.74843815e-03, 1.49937526e-02, 9.37109538e-02, 2.39900042e-01,\n",
              "       4.53561016e-01, 7.34693878e-01, 1.08329863e+00, 1.49937526e+00,\n",
              "       1.98292378e+00, 2.53394419e+00, 3.15243648e+00, 3.83840067e+00,\n",
              "       4.59183673e+00, 5.41274469e+00, 6.30112453e+00, 7.25697626e+00,\n",
              "       8.28029988e+00, 9.37109538e+00, 1.05293628e+01, 1.17551020e+01,\n",
              "       1.30483132e+01, 1.44089963e+01, 1.58371512e+01, 1.73327780e+01,\n",
              "       1.88958767e+01, 2.05264473e+01, 2.22244898e+01, 2.39900042e+01,\n",
              "       2.58229904e+01, 2.77234486e+01, 2.96913786e+01, 3.17267805e+01,\n",
              "       3.38296543e+01, 3.60000000e+01])"
            ]
          },
          "metadata": {},
          "execution_count": 64
        }
      ]
    },
    {
      "cell_type": "code",
      "metadata": {
        "colab": {
          "base_uri": "https://localhost:8080/",
          "height": 282
        },
        "id": "TqASVSIeI3MH",
        "outputId": "8487872e-1bb1-4639-efe3-b8d4e232f3b3"
      },
      "source": [
        "plt.plot(X,Y)"
      ],
      "execution_count": 65,
      "outputs": [
        {
          "output_type": "execute_result",
          "data": {
            "text/plain": [
              "[<matplotlib.lines.Line2D at 0x7f1cafedc390>]"
            ]
          },
          "metadata": {},
          "execution_count": 65
        },
        {
          "output_type": "display_data",
          "data": {
            "image/png": "[encoded data removed]",
            "text/plain": [
              "<Figure size 432x288 with 1 Axes>"
            ]
          },
          "metadata": {
            "needs_background": "light"
          }
        }
      ]
    },
    {
      "cell_type": "code",
      "metadata": {
        "colab": {
          "base_uri": "https://localhost:8080/"
        },
        "id": "bdo_PTszg_hq",
        "outputId": "672f69e1-d346-4ce2-aae8-25b450f40ca1"
      },
      "source": [
        "m = np.gradient(Y,X)\n",
        "m"
      ],
      "execution_count": 66,
      "outputs": [
        {
          "output_type": "execute_result",
          "data": {
            "text/plain": [
              "array([-5.81632653, -5.63265306, -5.26530612, -4.89795918, -4.53061224,\n",
              "       -4.16326531, -3.79591837, -3.42857143, -3.06122449, -2.69387755,\n",
              "       -2.32653061, -1.95918367, -1.59183673, -1.2244898 , -0.85714286,\n",
              "       -0.48979592, -0.12244898,  0.24489796,  0.6122449 ,  0.97959184,\n",
              "        1.34693878,  1.71428571,  2.08163265,  2.44897959,  2.81632653,\n",
              "        3.18367347,  3.55102041,  3.91836735,  4.28571429,  4.65306122,\n",
              "        5.02040816,  5.3877551 ,  5.75510204,  6.12244898,  6.48979592,\n",
              "        6.85714286,  7.2244898 ,  7.59183673,  7.95918367,  8.32653061,\n",
              "        8.69387755,  9.06122449,  9.42857143,  9.79591837, 10.16326531,\n",
              "       10.53061224, 10.89795918, 11.26530612, 11.63265306, 11.81632653])"
            ]
          },
          "metadata": {},
          "execution_count": 66
        }
      ]
    },
    {
      "cell_type": "code",
      "metadata": {
        "colab": {
          "base_uri": "https://localhost:8080/",
          "height": 284
        },
        "id": "m1lI-0SEhcBI",
        "outputId": "183f7438-e2f5-4e72-cee2-95d895a934f3"
      },
      "source": [
        "plt.plot(X,m)"
      ],
      "execution_count": 67,
      "outputs": [
        {
          "output_type": "execute_result",
          "data": {
            "text/plain": [
              "[<matplotlib.lines.Line2D at 0x7f1caba5e590>]"
            ]
          },
          "metadata": {},
          "execution_count": 67
        },
        {
          "output_type": "display_data",
          "data": {
            "image/png": "[encoded data removed]",
            "text/plain": [
              "<Figure size 432x288 with 1 Axes>"
            ]
          },
          "metadata": {
            "needs_background": "light"
          }
        }
      ]
    },
    {
      "cell_type": "code",
      "metadata": {
        "colab": {
          "base_uri": "https://localhost:8080/"
        },
        "id": "YZHHVc9RkCf0",
        "outputId": "2a014763-9d6a-4083-dfd3-19a0a0236329"
      },
      "source": [
        "def f(x):\n",
        "  return (x**2 + 2*x + 1)   #fungsinya apa, ketik aja, x nya kecil\n",
        "\n",
        "minimize_scalar(f)\n",
        "\n",
        "#nanti liat hasilnya , x dan fun"
      ],
      "execution_count": 68,
      "outputs": [
        {
          "output_type": "execute_result",
          "data": {
            "text/plain": [
              "     fun: 0.0\n",
              "    nfev: 9\n",
              "     nit: 4\n",
              " success: True\n",
              "       x: -1.0000000000000002"
            ]
          },
          "metadata": {},
          "execution_count": 68
        }
      ]
    },
    {
      "cell_type": "code",
      "metadata": {
        "colab": {
          "base_uri": "https://localhost:8080/"
        },
        "id": "x0OAzInImkgo",
        "outputId": "1ea6cd1f-5534-486b-ccef-3fa94e392c09"
      },
      "source": [
        "#catatn kecil, misalnya:\n",
        "def f1(x):\n",
        "  return -(x**(3)- 6*x**2 + 9*x + 1)   #di python, gak ada fungsi max. jadi kalo mau cari nilai max, di return nya dikasih -(fungsi) nanti pas di fun kali minus aja\n",
        "#kalo ketik return (fungsi) terus ketik minimize_scalar(fungsi) error, berarti gak punya nilai global minimun, punyanya global maksimum. nanti buat fungsi return-(fungsi)\n",
        "minimize_scalar(f1)"
      ],
      "execution_count": 69,
      "outputs": [
        {
          "output_type": "execute_result",
          "data": {
            "text/plain": [
              "     fun: -5.0\n",
              "    nfev: 13\n",
              "     nit: 9\n",
              " success: True\n",
              "       x: 0.99999998519"
            ]
          },
          "metadata": {},
          "execution_count": 69
        }
      ]
    },
    {
      "cell_type": "markdown",
      "metadata": {
        "id": "junuVnRpVCJ7"
      },
      "source": [
        "#2. Turunan 4x3 - 3x2 + 2x - 1"
      ]
    },
    {
      "cell_type": "code",
      "metadata": {
        "id": "qvjQh_GpVgkV"
      },
      "source": [
        "#𝑦 = 4x3−3𝑥2+2𝑥−1\n",
        "x = sym.Symbol('x')\n",
        "y = 4*x**3 + 2*x + 1\n",
        "y_diff = y.diff(x)"
      ],
      "execution_count": 70,
      "outputs": []
    },
    {
      "cell_type": "code",
      "metadata": {
        "colab": {
          "base_uri": "https://localhost:8080/",
          "height": 39
        },
        "id": "S8A0FoRMVsYM",
        "outputId": "68c3686b-c9c9-4f6e-d885-4bf43ba476bb"
      },
      "source": [
        "y_diff"
      ],
      "execution_count": 71,
      "outputs": [
        {
          "output_type": "execute_result",
          "data": {
            "text/latex": "$\\displaystyle 12 x^{2} + 2$",
            "text/plain": [
              "12*x**2 + 2"
            ]
          },
          "metadata": {},
          "execution_count": 71
        }
      ]
    },
    {
      "cell_type": "markdown",
      "metadata": {
        "id": "xCSY-CfFbjbR"
      },
      "source": [
        "##Tambahan catatan"
      ]
    },
    {
      "cell_type": "code",
      "metadata": {
        "id": "CPkVQNZrOsPD"
      },
      "source": [
        "#𝑦 = 4x3−3𝑥2+2𝑥−1\n",
        "x = np.linspace(-3, 6, 100) #batasnya -3 sampai 6 dengan 100 variabel\n",
        "y = 4*x**3 + 2*x + 1\n",
        "dx = np.diff(x)\n",
        "dy = np.diff(y)"
      ],
      "execution_count": 72,
      "outputs": []
    },
    {
      "cell_type": "code",
      "metadata": {
        "colab": {
          "base_uri": "https://localhost:8080/"
        },
        "id": "fPA-HVzxVxWU",
        "outputId": "cd91d08b-39b8-4618-a568-80b93dc948c0"
      },
      "source": [
        "dx"
      ],
      "execution_count": 73,
      "outputs": [
        {
          "output_type": "execute_result",
          "data": {
            "text/plain": [
              "array([0.09090909, 0.09090909, 0.09090909, 0.09090909, 0.09090909,\n",
              "       0.09090909, 0.09090909, 0.09090909, 0.09090909, 0.09090909,\n",
              "       0.09090909, 0.09090909, 0.09090909, 0.09090909, 0.09090909,\n",
              "       0.09090909, 0.09090909, 0.09090909, 0.09090909, 0.09090909,\n",
              "       0.09090909, 0.09090909, 0.09090909, 0.09090909, 0.09090909,\n",
              "       0.09090909, 0.09090909, 0.09090909, 0.09090909, 0.09090909,\n",
              "       0.09090909, 0.09090909, 0.09090909, 0.09090909, 0.09090909,\n",
              "       0.09090909, 0.09090909, 0.09090909, 0.09090909, 0.09090909,\n",
              "       0.09090909, 0.09090909, 0.09090909, 0.09090909, 0.09090909,\n",
              "       0.09090909, 0.09090909, 0.09090909, 0.09090909, 0.09090909,\n",
              "       0.09090909, 0.09090909, 0.09090909, 0.09090909, 0.09090909,\n",
              "       0.09090909, 0.09090909, 0.09090909, 0.09090909, 0.09090909,\n",
              "       0.09090909, 0.09090909, 0.09090909, 0.09090909, 0.09090909,\n",
              "       0.09090909, 0.09090909, 0.09090909, 0.09090909, 0.09090909,\n",
              "       0.09090909, 0.09090909, 0.09090909, 0.09090909, 0.09090909,\n",
              "       0.09090909, 0.09090909, 0.09090909, 0.09090909, 0.09090909,\n",
              "       0.09090909, 0.09090909, 0.09090909, 0.09090909, 0.09090909,\n",
              "       0.09090909, 0.09090909, 0.09090909, 0.09090909, 0.09090909,\n",
              "       0.09090909, 0.09090909, 0.09090909, 0.09090909, 0.09090909,\n",
              "       0.09090909, 0.09090909, 0.09090909, 0.09090909])"
            ]
          },
          "metadata": {},
          "execution_count": 73
        }
      ]
    },
    {
      "cell_type": "code",
      "metadata": {
        "colab": {
          "base_uri": "https://localhost:8080/"
        },
        "id": "B3tOVs0AVL8r",
        "outputId": "72932eec-715e-4f5a-c9cc-a0970a96e414"
      },
      "source": [
        "dy"
      ],
      "execution_count": 74,
      "outputs": [
        {
          "output_type": "execute_result",
          "data": {
            "text/plain": [
              "array([ 9.7054846 ,  9.12847483,  8.56949662,  8.02854996,  7.50563486,\n",
              "        7.00075131,  6.51389932,  6.04507889,  5.59429001,  5.16153268,\n",
              "        4.74680691,  4.3501127 ,  3.97145004,  3.61081893,  3.26821938,\n",
              "        2.94365139,  2.63711495,  2.34861007,  2.07813674,  1.82569497,\n",
              "        1.59128475,  1.37490609,  1.17655898,  0.99624343,  0.83395943,\n",
              "        0.68970699,  0.5634861 ,  0.45529677,  0.36513899,  0.29301277,\n",
              "        0.23891811,  0.202855  ,  0.18482344,  0.18482344,  0.202855  ,\n",
              "        0.23891811,  0.29301277,  0.36513899,  0.45529677,  0.5634861 ,\n",
              "        0.68970699,  0.83395943,  0.99624343,  1.17655898,  1.37490609,\n",
              "        1.59128475,  1.82569497,  2.07813674,  2.34861007,  2.63711495,\n",
              "        2.94365139,  3.26821938,  3.61081893,  3.97145004,  4.3501127 ,\n",
              "        4.74680691,  5.16153268,  5.59429001,  6.04507889,  6.51389932,\n",
              "        7.00075131,  7.50563486,  8.02854996,  8.56949662,  9.12847483,\n",
              "        9.7054846 , 10.30052592, 10.9135988 , 11.54470323, 12.19383922,\n",
              "       12.86100676, 13.54620586, 14.24943651, 14.97069872, 15.70999249,\n",
              "       16.46731781, 17.24267468, 18.03606311, 18.8474831 , 19.67693464,\n",
              "       20.52441773, 21.38993238, 22.27347859, 23.17505635, 24.09466566,\n",
              "       25.03230654, 25.98797896, 26.96168295, 27.95341848, 28.96318557,\n",
              "       29.99098422, 31.03681443, 32.10067618, 33.1825695 , 34.28249437,\n",
              "       35.40045079, 36.53643877, 37.6904583 , 38.86250939])"
            ]
          },
          "metadata": {},
          "execution_count": 74
        }
      ]
    }
  ]
}